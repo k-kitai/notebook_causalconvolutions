{
 "cells": [
  {
   "cell_type": "code",
   "execution_count": 1,
   "metadata": {},
   "outputs": [],
   "source": [
    "import numpy as np\n",
    "import mxnet as mx\n",
    "from mxnet import gluon\n",
    "ctx = mx.gpu(0)"
   ]
  },
  {
   "cell_type": "code",
   "execution_count": 2,
   "metadata": {},
   "outputs": [],
   "source": [
    "import matplotlib.pyplot as plt"
   ]
  },
  {
   "cell_type": "markdown",
   "metadata": {},
   "source": [
    "# Gated PixelCNN\n",
    "Causal convolution is an approximation to Recurrent Neural Network(RNN) structure.\n",
    "While taking the advantage of relatively short traing time of CNN,\n",
    "it is also capable of generating time-sequence such as audio waveform in permissible quality.\n",
    "\n",
    "In this notebook, Unconditional Gated PixelCNN, which is defined in [A. van den Oord, et.al., \"Conditional Image Generation with PixelCNN Decoders\" _NIPS2016_](https://papers.nips.cc/paper/6527-conditional-image-generation-with-pixelcnn-decoders), is implemented with Apache MXNet, and completion of MNIST image based of upper half of the image is done."
   ]
  },
  {
   "cell_type": "code",
   "execution_count": 3,
   "metadata": {},
   "outputs": [],
   "source": [
    "class VStack(gluon.nn.Conv2D):\n",
    "    '''Vertical stack of a PixelCNN layer\n",
    "    \n",
    "    Gluon's 2D-convolution layer modified as to capture the image context\n",
    "    descending from top line to target line.\n",
    "    When kernel_type is set to 'A'(default), the convolution does not rely on\n",
    "    the value of same position of previous layer, which preserves *causality*.\n",
    "    '''\n",
    "    def __init__(self, channels, kernel_size, strides=(1, 1),\n",
    "                 dilation=(1, 1), groups=1, layout='NCHW',\n",
    "                 activation=None, use_bias=True, weight_initializer=None,\n",
    "                 bias_initializer='zeros', in_channels=0, kernel_type='A', **kwargs):\n",
    "        super(VStack, self).__init__(channels, kernel_size, strides,\n",
    "                (kernel_size[0] if 'A' is kernel_type else kernel_size[0]-1, kernel_size[1]//2),\n",
    "                 dilation, groups, layout,\n",
    "                 activation, use_bias, weight_initializer,\n",
    "                 bias_initializer, in_channels, **kwargs)\n",
    "\n",
    "    def hybrid_forward(self, F, x, weight, bias=None):\n",
    "        act = super(VStack, self).hybrid_forward(F, x, weight, bias)\n",
    "        return F.slice_like(act, x, axes=[2,3])\n",
    "\n",
    "class HStack(gluon.nn.Conv2D):\n",
    "    '''Horizontal stack of a PixelCNN layer\n",
    "    \n",
    "    Gluon's 2D-convolution layer modified as to capture the image context\n",
    "    propagating from left pixel to right pixel.\n",
    "    When kernel_type is set to 'A'(default), the convolution does not rely on\n",
    "    the value of same position of previous layer, which preserves *causality*.\n",
    "    '''\n",
    "    def __init__(self, channels, kernel_len, strides=(1, 1),\n",
    "                 dilation=(1, 1), groups=1, layout='NCHW',\n",
    "                 activation=None, use_bias=True, weight_initializer=None,\n",
    "                 bias_initializer='zeros', in_channels=0, kernel_type='A', **kwargs):\n",
    "        super(HStack, self).__init__(channels, (1,kernel_len), strides,\n",
    "                (0, kernel_len if 'A' is kernel_type else kernel_len-1),\n",
    "                 dilation, groups, layout,\n",
    "                 activation, use_bias, weight_initializer,\n",
    "                 bias_initializer, in_channels, **kwargs)\n",
    "\n",
    "    def hybrid_forward(self, F, x, weight, bias=None):\n",
    "        act = super(HStack, self).hybrid_forward(F, x, weight, bias)\n",
    "        return F.slice_like(act, x, axes=[2,3])\n",
    "    \n",
    "class GatedLayer(gluon.HybridBlock):\n",
    "    '''Implementation of a single layer in Gated PixelCNN (A. van den Oord, et.al., NIPS2016 6527)\n",
    "    '''\n",
    "    def __init__(self, channels, kernel_size, strides=(1, 1),\n",
    "                 dilation=(1, 1), groups=1, use_bias=True, weight_initializer=None,\n",
    "                 bias_initializer='zeros', in_channels=0, kernel_type='A', residual=True, **kwargs):\n",
    "        super(GatedLayer, self).__init__(**kwargs)\n",
    "        self.channels = channels\n",
    "        self.residual = residual\n",
    "        with self.name_scope():\n",
    "            self.vstack = VStack(channels*2, kernel_size, strides,\n",
    "                 dilation, groups, 'NCHW', None, use_bias, weight_initializer,\n",
    "                 bias_initializer, in_channels, kernel_type, **kwargs)\n",
    "            self.hstack = HStack(channels*2, kernel_size[1], strides,\n",
    "                 dilation, groups, 'NCHW', None, use_bias, weight_initializer,\n",
    "                 bias_initializer, in_channels, kernel_type, **kwargs)\n",
    "            self.vtoh = gluon.nn.Conv2D(channels*2, (1,1), strides,\n",
    "                 (0,0), (1,1), groups, 'NCHW', None, use_bias, weight_initializer,\n",
    "                 bias_initializer, channels*2, **kwargs)\n",
    "            self.htoh = gluon.nn.Conv2D(channels, (1,1), strides,\n",
    "                 (0,0), (1,1), groups, 'NCHW', None, use_bias, weight_initializer,\n",
    "                 bias_initializer, channels, **kwargs)\n",
    "            \n",
    "    def hybrid_forward(self, F, x):\n",
    "        vx, hx = F.split(x, axis=1, num_outputs=2)\n",
    "        vstack = self.vstack(vx)\n",
    "        hstack = self.hstack(hx) + self.vtoh(vstack)\n",
    "        \n",
    "        vstack_presig, vstack_pretanh = F.split(vstack, axis=1, num_outputs=2)\n",
    "        hstack_presig, hstack_pretanh = F.split(hstack, axis=1, num_outputs=2)\n",
    "        vstack_out = F.sigmoid(vstack_presig) * F.tanh(vstack_pretanh)\n",
    "        hstack_preres = self.htoh(F.sigmoid(hstack_presig) * F.tanh(hstack_pretanh))\n",
    "        # residual connection for hstack\n",
    "        if not self.residual:\n",
    "            hstack_out = hstack_preres\n",
    "        elif hx.shape[1] < self.channels:\n",
    "            zpad_shape = list(hx.shape)\n",
    "            zpad_shape[1] = self.channels - zpad_shape[1]\n",
    "            hstack_out = hstack_preres + F.concat(hx, F.zeros(zpad_shape), dim=1)\n",
    "        else:\n",
    "            hstack_out = hstack_preres + hx\n",
    "            \n",
    "        return mx.nd.concat(vstack_out, hstack_out, dim=1)\n",
    "    "
   ]
  },
  {
   "cell_type": "markdown",
   "metadata": {},
   "source": [
    "## Construction of the entine network\n",
    "\n",
    "Residual connection is omitted because it seemed degrading the quality of output images."
   ]
  },
  {
   "cell_type": "code",
   "execution_count": 4,
   "metadata": {},
   "outputs": [],
   "source": [
    "net = gluon.nn.Sequential()\n",
    "with net.name_scope():\n",
    "    net.add(gluon.nn.Conv2D(8, (1,1)))\n",
    "    net.add(GatedLayer(16, (5,5), kernel_type='A', residual=False))\n",
    "    net.add(GatedLayer(16, (5,5), kernel_type='B', residual=False))\n",
    "    net.add(GatedLayer(16, (5,5), kernel_type='B', residual=False))\n",
    "    net.add(GatedLayer(16, (5,5), kernel_type='B', residual=False))\n",
    "    net.add(GatedLayer(16, (5,5), kernel_type='B', residual=False))\n",
    "    net.add(GatedLayer(16, (5,5), kernel_type='B', residual=False))\n",
    "    net.add(gluon.nn.Conv2D(1, (1,1), activation='relu'))\n",
    "net.initialize(ctx=ctx)"
   ]
  },
  {
   "cell_type": "markdown",
   "metadata": {},
   "source": [
    "## Data preparation"
   ]
  },
  {
   "cell_type": "code",
   "execution_count": 5,
   "metadata": {},
   "outputs": [],
   "source": [
    "train_loader = gluon.data.DataLoader(\n",
    "    gluon.data.vision.MNIST('.', transform=lambda x,y: (mx.nd.transpose(x, [2,0,1]).astype(np.float32), y)), batch_size=24)\n",
    "test_loader = gluon.data.DataLoader(\n",
    "    gluon.data.vision.MNIST('.', train=False, transform=lambda x,y: (mx.nd.transpose(x, [2,0,1]).astype(np.float32), y)), batch_size=24)"
   ]
  },
  {
   "cell_type": "markdown",
   "metadata": {},
   "source": [
    "## Training"
   ]
  },
  {
   "cell_type": "code",
   "execution_count": 6,
   "metadata": {},
   "outputs": [
    {
     "name": "stdout",
     "output_type": "stream",
     "text": [
      "train loss:  1004493.07526875 test loss:  277842.7196867506\n",
      "train loss:  251292.1415125 test loss:  256197.82606414868\n",
      "train loss:  239869.5419 test loss:  251650.16291966426\n",
      "train loss:  232906.33226875 test loss:  245276.59303806955\n",
      "train loss:  228352.43911875 test loss:  241586.5666966427\n"
     ]
    }
   ],
   "source": [
    "trainer = gluon.Trainer(net.collect_params(), 'adam', {'learning_rate': 0.001})\n",
    "\n",
    "for _ in range(5):\n",
    "    cumulative_loss = 0\n",
    "    for x,_ in train_loader:\n",
    "        x = mx.nd.array(x, ctx=ctx)\n",
    "        with mx.autograd.record():\n",
    "            loss = mx.nd.sum((net(x) - x)**2, axis=[1,2,3])\n",
    "        loss.backward()\n",
    "        trainer.step(12)\n",
    "        cumulative_loss += mx.nd.mean(loss).asscalar()\n",
    "    test_loss = 0\n",
    "    for x, _ in test_loader:\n",
    "        x = mx.nd.array(x, ctx=ctx)\n",
    "        test_loss += mx.nd.mean(mx.nd.sum((net(x) - x)**2, axis=[1,2,3])).asscalar()\n",
    "    print('train loss: ', cumulative_loss/len(train_loader), 'test loss: ', test_loss/len(test_loader))"
   ]
  },
  {
   "cell_type": "markdown",
   "metadata": {},
   "source": [
    "## Image completion"
   ]
  },
  {
   "cell_type": "code",
   "execution_count": 7,
   "metadata": {},
   "outputs": [],
   "source": [
    "for n, (x, _) in enumerate(test_loader):\n",
    "    x = mx.nd.array(x, ctx=ctx)\n",
    "    reconst =mx.nd.array(x, ctx=ctx)\n",
    "    if n==1:\n",
    "        break\n",
    "\n",
    "for i in range(14,28):\n",
    "    for j in range(28):\n",
    "        reconst[:,0,i,j] = net(reconst).asnumpy()[:,0,i,j]"
   ]
  },
  {
   "cell_type": "markdown",
   "metadata": {},
   "source": [
    "On the first row, original images are taken from the test dataset.\n",
    "For the second row, the lower half of the images (below the red line) are once removed, and estimated by the Gated PixelCNN based on the information contained in upper half of the images."
   ]
  },
  {
   "cell_type": "code",
   "execution_count": 8,
   "metadata": {},
   "outputs": [
    {
     "data": {
      "image/png": "[encoded data removed]",
      "text/plain": [
       "<Figure size 1728x144 with 24 Axes>"
      ]
     },
     "metadata": {},
     "output_type": "display_data"
    }
   ],
   "source": [
    "fig, ax = plt.subplots(2,12, figsize=(24,2))\n",
    "for i in range(12):\n",
    "    a1, a2 = ax[:, i]\n",
    "    a1.set_xticks([])\n",
    "    a2.set_xticks([])\n",
    "    a1.imshow(x.asnumpy()[i,0,:,:])\n",
    "    a1.plot([0,28], [14,14], 'r')\n",
    "    a2.imshow(reconst.asnumpy()[i,0,:,:])\n",
    "    a2.plot([0,28], [14,14], 'r')\n",
    "    a1.set_xticks([])\n",
    "    a2.set_xticks([])\n",
    "    a1.set_xlim([0,28])\n",
    "    a2.set_xlim([0,28])\n",
    "    a1.set_yticks([])\n",
    "    a2.set_yticks([])"
   ]
  }
 ],
 "metadata": {
  "kernelspec": {
   "display_name": "Python 3",
   "language": "python",
   "name": "python3"
  },
  "language_info": {
   "codemirror_mode": {
    "name": "ipython",
    "version": 3
   },
   "file_extension": ".py",
   "mimetype": "text/x-python",
   "name": "python",
   "nbconvert_exporter": "python",
   "pygments_lexer": "ipython3",
   "version": "3.6.6"
  }
 },
 "nbformat": 4,
 "nbformat_minor": 2
}
