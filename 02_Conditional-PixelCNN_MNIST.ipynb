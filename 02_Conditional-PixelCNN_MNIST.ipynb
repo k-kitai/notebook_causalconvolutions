{
 "cells": [
  {
   "cell_type": "code",
   "execution_count": 1,
   "metadata": {},
   "outputs": [],
   "source": [
    "import numpy as np\n",
    "import mxnet as mx\n",
    "from mxnet import gluon\n",
    "ctx = mx.gpu(0)"
   ]
  },
  {
   "cell_type": "code",
   "execution_count": 2,
   "metadata": {},
   "outputs": [],
   "source": [
    "import matplotlib.pyplot as plt"
   ]
  },
  {
   "cell_type": "markdown",
   "metadata": {},
   "source": [
    "# Conditional PixelCNN\n",
    "Completion or generation of images could be done with better quality when given classification labels.\n",
    "\n",
    "In this notebook, Conditional Gated PixelCNN, which is defined in [A. van den Oord, et.al., \"Conditional Image Generation with PixelCNN Decoders\" _NIPS2016_](https://papers.nips.cc/paper/6527-conditional-image-generation-with-pixelcnn-decoders), is implemented with Apache MXNet, and completion of MNIST image based on upper half of the image is done."
   ]
  },
  {
   "cell_type": "code",
   "execution_count": 3,
   "metadata": {},
   "outputs": [],
   "source": [
    "class VStack(gluon.nn.Conv2D):\n",
    "    '''Vertical stack of a PixelCNN layer\n",
    "    \n",
    "    Gluon's 2D-convolution layer modified as to capture the image context\n",
    "    descending from top line to target line.\n",
    "    When kernel_type is set to 'A'(default), the convolution does not rely on\n",
    "    the value of same position of previous layer, which preserves *causality*.\n",
    "    '''\n",
    "    def __init__(self, channels, kernel_size, strides=(1, 1),\n",
    "                 dilation=(1, 1), groups=1, layout='NCHW',\n",
    "                 activation=None, use_bias=True, weight_initializer=None,\n",
    "                 bias_initializer='zeros', in_channels=0, kernel_type='A', **kwargs):\n",
    "        super(VStack, self).__init__(channels, kernel_size, strides,\n",
    "                (kernel_size[0] if 'A' is kernel_type else kernel_size[0]-1, kernel_size[1]//2),\n",
    "                 dilation, groups, layout,\n",
    "                 activation, use_bias, weight_initializer,\n",
    "                 bias_initializer, in_channels, **kwargs)\n",
    "\n",
    "    def hybrid_forward(self, F, x, weight, bias=None):\n",
    "        act = super(VStack, self).hybrid_forward(F, x, weight, bias)\n",
    "        return F.slice_like(act, x, axes=[2,3])\n",
    "\n",
    "class HStack(gluon.nn.Conv2D):\n",
    "    '''Horizontal stack of a PixelCNN layer\n",
    "    \n",
    "    Gluon's 2D-convolution layer modified as to capture the image context\n",
    "    propagating from left pixel to right pixel.\n",
    "    When kernel_type is set to 'A'(default), the convolution does not rely on\n",
    "    the value of same position of previous layer, which preserves *causality*.\n",
    "    '''\n",
    "    def __init__(self, channels, kernel_len, strides=(1, 1),\n",
    "                 dilation=(1, 1), groups=1, layout='NCHW',\n",
    "                 activation=None, use_bias=True, weight_initializer=None,\n",
    "                 bias_initializer='zeros', in_channels=0, kernel_type='A', **kwargs):\n",
    "        super(HStack, self).__init__(channels, (1,kernel_len), strides,\n",
    "                (0, kernel_len if 'A' is kernel_type else kernel_len-1),\n",
    "                 dilation, groups, layout,\n",
    "                 activation, use_bias, weight_initializer,\n",
    "                 bias_initializer, in_channels, **kwargs)\n",
    "\n",
    "    def hybrid_forward(self, F, x, weight, bias=None):\n",
    "        act = super(HStack, self).hybrid_forward(F, x, weight, bias)\n",
    "        return F.slice_like(act, x, axes=[2,3])\n",
    "    \n",
    "class GatedLayer(gluon.HybridBlock):\n",
    "    '''Implementation of a single layer in Gated PixelCNN (A. van den Oord, et.al., NIPS2016 6527)\n",
    "    '''\n",
    "    def __init__(self, channels, kernel_size, strides=(1, 1),\n",
    "                 dilation=(1, 1), groups=1, use_bias=True, weight_initializer=None,\n",
    "                 bias_initializer='zeros', in_channels=0, kernel_type='A', residual=True, **kwargs):\n",
    "        super(GatedLayer, self).__init__(**kwargs)\n",
    "        self.channels = channels\n",
    "        self.residual = residual\n",
    "        with self.name_scope():\n",
    "            self.vstack = VStack(channels*2, kernel_size, strides,\n",
    "                 dilation, groups, 'NCHW', None, use_bias, weight_initializer,\n",
    "                 bias_initializer, in_channels, kernel_type, **kwargs)\n",
    "            self.hstack = HStack(channels*2, kernel_size[1], strides,\n",
    "                 dilation, groups, 'NCHW', None, use_bias, weight_initializer,\n",
    "                 bias_initializer, in_channels, kernel_type, **kwargs)\n",
    "            self.vtoh = gluon.nn.Conv2D(channels*2, (1,1), strides,\n",
    "                 (0,0), (1,1), groups, 'NCHW', None, use_bias, weight_initializer,\n",
    "                 bias_initializer, channels*2, **kwargs)\n",
    "            self.htoh = gluon.nn.Conv2D(channels, (1,1), strides,\n",
    "                 (0,0), (1,1), groups, 'NCHW', None, use_bias, weight_initializer,\n",
    "                 bias_initializer, channels, **kwargs)\n",
    "            \n",
    "    def hybrid_forward(self, F, x):\n",
    "        vx, hx = F.split(x, axis=1, num_outputs=2)\n",
    "        vstack = self.vstack(vx)\n",
    "        hstack = self.hstack(hx) + self.vtoh(vstack)\n",
    "        \n",
    "        vstack_presig, vstack_pretanh = F.split(vstack, axis=1, num_outputs=2)\n",
    "        hstack_presig, hstack_pretanh = F.split(hstack, axis=1, num_outputs=2)\n",
    "        vstack_out = F.sigmoid(vstack_presig) * F.tanh(vstack_pretanh)\n",
    "        hstack_preres = self.htoh(F.sigmoid(hstack_presig) * F.tanh(hstack_pretanh))\n",
    "        # residual connection for hstack\n",
    "        if not self.residual:\n",
    "            hstack_out = hstack_preres\n",
    "        elif hx.shape[1] < self.channels:\n",
    "            zpad_shape = list(hx.shape)\n",
    "            zpad_shape[1] = self.channels - zpad_shape[1]\n",
    "            hstack_out = hstack_preres + F.concat(hx, F.zeros(zpad_shape), dim=1)\n",
    "        else:\n",
    "            hstack_out = hstack_preres + hx\n",
    "            \n",
    "        return mx.nd.concat(vstack_out, hstack_out, dim=1)"
   ]
  },
  {
   "cell_type": "code",
   "execution_count": 4,
   "metadata": {},
   "outputs": [],
   "source": [
    "class ConditionalLayer(GatedLayer):\n",
    "    def __init__(self, channels, kernel_size, strides=(1, 1),\n",
    "                 dilation=(1, 1), groups=1, use_bias=True, weight_initializer=None,\n",
    "                 bias_initializer='zeros', in_channels=0, kernel_type='A', residual=True, **kwargs):\n",
    "        super(ConditionalLayer, self).__init__(channels, kernel_size, strides,\n",
    "                 dilation, groups, use_bias, weight_initializer,\n",
    "                 bias_initializer, in_channels, kernel_type, residual, **kwargs)\n",
    "        gatedLayers = []\n",
    "        embeddings = []\n",
    "        with self.name_scope():\n",
    "            self.embedder = gluon.nn.Conv2D(channels*4, (1,1))\n",
    "            \n",
    "    def hybrid_forward(self, F, x, h):\n",
    "        for _ in range(2):\n",
    "            h = F.expand_dims(h, axis=-1)\n",
    "        vstack_presig_cond, vstack_pretanh_cond, hstack_presig_cond, hstack_pretanh_cond = \\\n",
    "            F.split(self.embedder(h), axis=1, num_outputs=4)\n",
    "        \n",
    "        vx, hx = F.split(x, axis=1, num_outputs=2)\n",
    "        vstack = self.vstack(vx)\n",
    "        hstack = self.hstack(hx) + self.vtoh(vstack)\n",
    "        \n",
    "        vstack_presig, vstack_pretanh = F.split(vstack, axis=1, num_outputs=2)\n",
    "        hstack_presig, hstack_pretanh = F.split(hstack, axis=1, num_outputs=2)\n",
    "        vstack_out = F.sigmoid(vstack_presig + vstack_presig_cond) * F.tanh(vstack_pretanh + vstack_pretanh_cond)\n",
    "        hstack_preres = self.htoh(F.sigmoid(hstack_presig + hstack_presig_cond) * F.tanh(hstack_pretanh + hstack_pretanh_cond))\n",
    "        # residual connection for hstack\n",
    "        if not self.residual:\n",
    "            hstack_out = hstack_preres\n",
    "        elif hx.shape[1] < self.channels:\n",
    "            zpad_shape = list(hx.shape)\n",
    "            zpad_shape[1] = self.channels - zpad_shape[1]\n",
    "            hstack_out = hstack_preres + F.concat(hx, F.zeros(zpad_shape), dim=1)\n",
    "        else:\n",
    "            hstack_out = hstack_preres + hx\n",
    "            \n",
    "        return mx.nd.concat(vstack_out, hstack_out, dim=1)\n",
    "    \n",
    "class ConditionalSequential(gluon.nn.HybridSequential):\n",
    "    def __init__(self, **kwargs):\n",
    "        super(ConditionalSequential, self).__init__(**kwargs)\n",
    "        \n",
    "    def hybrid_forward(self, F, x, h):\n",
    "        for block in self._children.values():\n",
    "            x = block(x, h)\n",
    "        return x, h\n",
    "    \n",
    "class ConditionalPixelCNN(gluon.nn.HybridBlock):\n",
    "    def __init__(self, **kwargs):\n",
    "        super(ConditionalPixelCNN, self).__init__(**kwargs)\n",
    "        net1 = ConditionalSequential()\n",
    "        net2 = gluon.nn.HybridSequential()\n",
    "        with self.name_scope():\n",
    "            net1.add(ConditionalLayer(16, (5,5), kernel_type='A', residual=False))\n",
    "            net1.add(ConditionalLayer(16, (5,5), kernel_type='B', residual=False))\n",
    "            net1.add(ConditionalLayer(16, (5,5), kernel_type='B', residual=False))\n",
    "            net2.add(GatedLayer(16, (5,5), kernel_type='B', residual=False))\n",
    "            net2.add(GatedLayer(16, (5,5), kernel_type='B', residual=False))\n",
    "            net2.add(GatedLayer(16, (5,5), kernel_type='B', residual=False))\n",
    "            net2.add(gluon.nn.Conv2D(1, (1,1), activation='relu'))\n",
    "        self.net1 = net1\n",
    "        self.net2 = net2\n",
    "            \n",
    "    def hybrid_forward(self, F, x, h):\n",
    "        x = F.tile(x, [1,2,1,1])\n",
    "        x, _ = self.net1(x, h)\n",
    "        return self.net2(x)"
   ]
  },
  {
   "cell_type": "markdown",
   "metadata": {},
   "source": [
    "## Construction of the entine network\n",
    "\n",
    "Residual connection is omitted because it seemed degrading the quality of output images."
   ]
  },
  {
   "cell_type": "code",
   "execution_count": 5,
   "metadata": {},
   "outputs": [],
   "source": [
    "net = ConditionalPixelCNN()\n",
    "net.initialize(ctx=ctx)"
   ]
  },
  {
   "cell_type": "markdown",
   "metadata": {},
   "source": [
    "## Data preparation"
   ]
  },
  {
   "cell_type": "code",
   "execution_count": 6,
   "metadata": {},
   "outputs": [],
   "source": [
    "train_loader = gluon.data.DataLoader(\n",
    "    gluon.data.vision.MNIST('.', transform=lambda x,y: (mx.nd.transpose(x, [2,0,1]).astype(np.float32), y)), batch_size=24)\n",
    "test_loader = gluon.data.DataLoader(\n",
    "    gluon.data.vision.MNIST('.', train=False, transform=lambda x,y: (mx.nd.transpose(x, [2,0,1]).astype(np.float32), y)), batch_size=24)"
   ]
  },
  {
   "cell_type": "markdown",
   "metadata": {},
   "source": [
    "## Training"
   ]
  },
  {
   "cell_type": "code",
   "execution_count": 7,
   "metadata": {},
   "outputs": [
    {
     "name": "stdout",
     "output_type": "stream",
     "text": [
      "training loss: 1014125.62, test loss: 341179.75\n",
      "training loss: 250900.41, test loss: 282366.69\n",
      "training loss: 237410.58, test loss: 270653.49\n",
      "training loss: 229402.77, test loss: 257153.51\n",
      "training loss: 226218.31, test loss: 288447.13\n",
      "training loss: 226389.69, test loss: 258814.23\n",
      "training loss: 221844.78, test loss: 245359.99\n",
      "training loss: 218563.72, test loss: 251628.26\n",
      "training loss: 217236.96, test loss: 295293.78\n",
      "training loss: 216485.03, test loss: 274387.99\n",
      "training loss: 214926.17, test loss: 265637.36\n",
      "training loss: 213551.48, test loss: 265486.56\n",
      "training loss: 211399.65, test loss: 236892.97\n",
      "training loss: 210292.04, test loss: 236527.04\n",
      "training loss: 209295.90, test loss: 263497.74\n",
      "training loss: 208905.32, test loss: 237150.82\n",
      "training loss: 207584.22, test loss: 232147.15\n",
      "training loss: 206548.92, test loss: 237726.94\n",
      "training loss: 206056.03, test loss: 240162.12\n",
      "training loss: 205464.45, test loss: 237238.21\n",
      "training loss: 204974.68, test loss: 235421.07\n",
      "training loss: 204391.90, test loss: 246273.31\n",
      "training loss: 204375.80, test loss: 233068.73\n",
      "training loss: 203627.29, test loss: 241616.31\n",
      "training loss: 203296.36, test loss: 235621.28\n",
      "training loss: 203031.79, test loss: 267871.64\n",
      "training loss: 202790.72, test loss: 239294.26\n",
      "training loss: 202478.56, test loss: 277837.76\n",
      "training loss: 202970.79, test loss: 245975.98\n",
      "training loss: 201763.29, test loss: 252232.56\n"
     ]
    }
   ],
   "source": [
    "trainer = gluon.Trainer(net.collect_params(), 'adam', {'learning_rate': 0.001})\n",
    "\n",
    "for _ in range(30):\n",
    "    cumulative_loss = 0\n",
    "    for x,y in train_loader:\n",
    "        x = mx.nd.array(x, ctx=ctx)\n",
    "        y = mx.nd.array(y, ctx=ctx)\n",
    "        with mx.autograd.record():\n",
    "            cond = mx.nd.one_hot(y, depth=10)\n",
    "            h = net(x,cond)\n",
    "            loss = mx.nd.sum((h - x)**2, axis=[1,2,3])\n",
    "        loss.backward()\n",
    "        trainer.step(24)\n",
    "        cumulative_loss += mx.nd.mean(loss).asscalar()\n",
    "    test_loss = 0\n",
    "    for x, y in test_loader:\n",
    "        x = mx.nd.array(x, ctx=ctx)\n",
    "        y = mx.nd.array(y, ctx=ctx)\n",
    "        cond = mx.nd.one_hot(y, depth=10)\n",
    "        h = net(x, cond)\n",
    "        test_loss += mx.nd.mean(mx.nd.sum((h - x)**2, axis=[1,2,3])).asscalar()\n",
    "    print('training loss: %.2f, test loss: %.2f'%(cumulative_loss/len(train_loader), test_loss/len(test_loader)))"
   ]
  },
  {
   "cell_type": "markdown",
   "metadata": {},
   "source": [
    "## Image completion"
   ]
  },
  {
   "cell_type": "code",
   "execution_count": 8,
   "metadata": {},
   "outputs": [],
   "source": [
    "for n, (x, y) in enumerate(test_loader):\n",
    "    x = mx.nd.array(x, ctx=ctx)\n",
    "    y = mx.nd.array(y, ctx=ctx)\n",
    "    reconst =mx.nd.array(x, ctx=ctx)\n",
    "\n",
    "for i in range(14,28):\n",
    "    for j in range(28):\n",
    "        cond = mx.nd.one_hot(y, depth=10)\n",
    "        h = net(reconst,cond)\n",
    "        reconst[:,:,i,j] = h[:,:,i,j]"
   ]
  },
  {
   "cell_type": "markdown",
   "metadata": {},
   "source": [
    "On the first row, original images are taken from the test dataset.\n",
    "For the second row, the lower half of the images (below the red line) are once removed, and estimated by the Conditional PixelCNN based on the information contained in upper half of the images."
   ]
  },
  {
   "cell_type": "code",
   "execution_count": 9,
   "metadata": {},
   "outputs": [
    {
     "data": {
      "image/png": "[encoded data removed]",
      "text/plain": [
       "<Figure size 1728x144 with 24 Axes>"
      ]
     },
     "metadata": {},
     "output_type": "display_data"
    }
   ],
   "source": [
    "fig, ax = plt.subplots(2,12, figsize=(24,2))\n",
    "for i in range(12):\n",
    "    a1, a2 = ax[:, i]\n",
    "    a1.set_xticks([])\n",
    "    a2.set_xticks([])\n",
    "    a1.imshow(x.asnumpy()[i,0,:,:])\n",
    "    a1.plot([0,28], [14,14], 'r')\n",
    "    a2.imshow(reconst.asnumpy()[i,0,:,:])\n",
    "    a2.plot([0,28], [14,14], 'r')\n",
    "    a1.set_xticks([])\n",
    "    a2.set_xticks([])\n",
    "    a1.set_xlim([0,28])\n",
    "    a2.set_xlim([0,28])\n",
    "    a1.set_yticks([])\n",
    "    a2.set_yticks([])"
   ]
  },
  {
   "cell_type": "markdown",
   "metadata": {},
   "source": [
    "## Image generation"
   ]
  },
  {
   "cell_type": "code",
   "execution_count": 10,
   "metadata": {},
   "outputs": [],
   "source": [
    "y = mx.nd.arange(10, ctx=ctx)\n",
    "gen =mx.nd.zeros_like(x[:10], ctx=ctx)\n",
    "\n",
    "for i in range(28):\n",
    "    for j in range(28):\n",
    "        cond = mx.nd.one_hot(y, depth=10)\n",
    "        h = net(gen,cond)\n",
    "        gen[:,:,i,j] = h[:,:,i,j]"
   ]
  },
  {
   "cell_type": "code",
   "execution_count": 11,
   "metadata": {},
   "outputs": [
    {
     "data": {
      "image/png": "[encoded data removed]",
      "text/plain": [
       "<Figure size 720x144 with 10 Axes>"
      ]
     },
     "metadata": {},
     "output_type": "display_data"
    }
   ],
   "source": [
    "fig, ax = plt.subplots(1,10, figsize=(10,2))\n",
    "for i,a in enumerate(ax):\n",
    "    a.set_xticks([])\n",
    "    a.imshow(gen.asnumpy()[i,0,:,:])\n",
    "    a.set_xlim([0,28])\n",
    "    a.set_yticks([])"
   ]
  }
 ],
 "metadata": {
  "kernelspec": {
   "display_name": "Python 3",
   "language": "python",
   "name": "python3"
  },
  "language_info": {
   "codemirror_mode": {
    "name": "ipython",
    "version": 3
   },
   "file_extension": ".py",
   "mimetype": "text/x-python",
   "name": "python",
   "nbconvert_exporter": "python",
   "pygments_lexer": "ipython3",
   "version": "3.6.8"
  }
 },
 "nbformat": 4,
 "nbformat_minor": 2
}
