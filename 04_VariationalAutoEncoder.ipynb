{
 "cells": [
  {
   "cell_type": "markdown",
   "metadata": {},
   "source": [
    "VQ-VAEの実装の前に、VAEを実装しておく"
   ]
  },
  {
   "cell_type": "markdown",
   "metadata": {},
   "source": [
    "# Variational Autoencoders\n",
    "変分自己符号化器(Variational AutoEncoder, VAE)は、観測値として得られたデータが何らかの(単純な)確率分布に従う低次元の確率変数から変換されたものであるという前提のもと、それらのデータの変換元である低次元表現の推定、および低次元表現から観測データへの変換を行うニューラルネットワークを学習させるものである。\n",
    "\n",
    "通常の自己符号化器と異なりネットワークの中間層の値(すなわち低次元表現)に特定の確率分布が想定されているため、その分布にしたがって低次元表現をサンプリングしデータへの変換を施すことで、元のデータ群に似通ったデータ群を新たに生成することができる。\n",
    "\n",
    "実装は[https://gluon.mxnet.io/chapter13_unsupervised-learning/vae-gluon.html](https://gluon.mxnet.io/chapter13_unsupervised-learning/vae-gluon.html) を参考に行った。"
   ]
  },
  {
   "cell_type": "code",
   "execution_count": 1,
   "metadata": {},
   "outputs": [],
   "source": [
    "import mxnet as mx\n",
    "from mxnet import gluon\n",
    "from mxnet import nd\n",
    "import numpy as np\n",
    "\n",
    "ctx = mx.gpu(0)"
   ]
  },
  {
   "cell_type": "code",
   "execution_count": 2,
   "metadata": {},
   "outputs": [],
   "source": [
    "import matplotlib.pyplot as plt"
   ]
  },
  {
   "cell_type": "code",
   "execution_count": 3,
   "metadata": {},
   "outputs": [],
   "source": [
    "class VAELoss(gluon.HybridBlock):\n",
    "    def __init__(self, **kwargs):\n",
    "        super(VAELoss, self).__init__(**kwargs)\n",
    "        with self.name_scope():\n",
    "            # エンコーダー部分は、2次元(独立)のガウス分布を出力。\n",
    "            # それぞれの次元で平均と分散(の対数)を推定するので、\n",
    "            # 出力次元は4。\n",
    "            encoder = gluon.nn.HybridSequential()\n",
    "            with encoder.name_scope():\n",
    "                encoder.add(gluon.nn.Dense(units=512, activation='tanh'))\n",
    "                encoder.add(gluon.nn.Dense(units=256, activation='tanh'))\n",
    "                encoder.add(gluon.nn.Dense(units=128, activation='tanh'))\n",
    "                encoder.add(gluon.nn.Dense(units=4, activation=None))\n",
    "            self.encoder = encoder\n",
    "\n",
    "            # デコーダー部分は、画像の各ピクセルにベルヌーイ分布を出力。\n",
    "            # パラメータは[0,1]区間のため、最後はシグモイド関数を通す。\n",
    "            decoder = gluon.nn.HybridSequential()\n",
    "            with decoder.name_scope():\n",
    "                decoder.add(gluon.nn.Dense(units=128, activation='tanh'))\n",
    "                decoder.add(gluon.nn.Dense(units=256, activation='tanh'))\n",
    "                decoder.add(gluon.nn.Dense(units=512, activation='tanh'))\n",
    "                decoder.add(gluon.nn.Dense(units=28*28, activation='sigmoid'))\n",
    "            self.decoder = decoder\n",
    "            \n",
    "    def hybrid_forward(self, F, x):\n",
    "        mean, lvar = F.split(self.encoder(F.flatten(x)), num_outputs=2, axis=-1)\n",
    "        kl = F.sum(.5*(F.exp(lvar)+mean**2-1-lvar), axis=1)\n",
    "        \n",
    "        L=10\n",
    "        mean = F.repeat(mean, repeats=L, axis=0)\n",
    "        lvar = F.repeat(lvar, repeats=L, axis=0)\n",
    "        eps = F.random_normal(loc=0, scale=1, shape=mean.shape, ctx=ctx)\n",
    "        z = mean +  eps * (F.exp(lvar/2))\n",
    "        y = self.decoder(z)\n",
    "        \n",
    "        repx = F.repeat(F.flatten(x), repeats=L, axis=0)\n",
    "        logp = F.sum(repx*F.log(y+1e-10)+ \\\n",
    "                    (1-repx)*F.log(1-y+1e-10), axis=1)\n",
    "        logp = F.mean(F.reshape(logp, (-1,L)), axis=1)\n",
    "        loss = kl - logp\n",
    "        return loss\n",
    "\n",
    "vaeLoss = VAELoss()"
   ]
  },
  {
   "cell_type": "code",
   "execution_count": 4,
   "metadata": {},
   "outputs": [],
   "source": [
    "train_loader = gluon.data.DataLoader(\n",
    "    gluon.data.vision.MNIST('.', transform=lambda x,y: (mx.nd.transpose(x, [2,0,1]).astype(np.float32)/255.0, y)), batch_size=24)\n",
    "test_loader = gluon.data.DataLoader(\n",
    "    gluon.data.vision.MNIST('.', train=False, transform=lambda x,y: (mx.nd.transpose(x, [2,0,1]).astype(np.float32)/255.0, y)), batch_size=24)"
   ]
  },
  {
   "cell_type": "code",
   "execution_count": 5,
   "metadata": {},
   "outputs": [],
   "source": [
    "initer = mx.init.Xavier()\n",
    "vaeLoss.initialize(initer, ctx=ctx, force_reinit=True)"
   ]
  },
  {
   "cell_type": "code",
   "execution_count": 6,
   "metadata": {},
   "outputs": [
    {
     "name": "stdout",
     "output_type": "stream",
     "text": [
      "training loss: 195.40, test loss: 181.14\n",
      "training loss: 173.53, test loss: 169.70\n",
      "training loss: 163.32, test loss: 161.47\n",
      "training loss: 157.93, test loss: 157.41\n",
      "training loss: 154.42, test loss: 154.10\n",
      "training loss: 152.08, test loss: 152.10\n",
      "training loss: 150.66, test loss: 151.54\n",
      "training loss: 149.88, test loss: 150.42\n",
      "training loss: 147.95, test loss: 148.22\n",
      "training loss: 146.83, test loss: 147.30\n"
     ]
    }
   ],
   "source": [
    "trainer = gluon.Trainer(vaeLoss.collect_params(), 'adam', {'learning_rate': 1e-4})\n",
    "\n",
    "for _ in range(10):\n",
    "    cumulative_loss = 0\n",
    "    for x,y in train_loader:\n",
    "        x = mx.nd.array(x, ctx=ctx)\n",
    "        y = mx.nd.array(y, ctx=ctx)\n",
    "        with mx.autograd.record():\n",
    "            loss = vaeLoss(x)\n",
    "        loss.backward()\n",
    "        trainer.step(24)\n",
    "        cumulative_loss += mx.nd.mean(loss).asscalar()\n",
    "    test_loss = 0\n",
    "    for x, y in test_loader:\n",
    "        x = mx.nd.array(x, ctx=ctx)\n",
    "        y = mx.nd.array(y, ctx=ctx)\n",
    "        loss = vaeLoss(x)\n",
    "        test_loss += mx.nd.mean(loss).asscalar()\n",
    "    print('training loss: %.2f, test loss: %.2f'%(cumulative_loss/len(train_loader), test_loss/len(test_loader)))"
   ]
  },
  {
   "cell_type": "markdown",
   "metadata": {},
   "source": [
    "# テストデータの再構成"
   ]
  },
  {
   "cell_type": "code",
   "execution_count": 7,
   "metadata": {},
   "outputs": [],
   "source": [
    "x, _ = list(test_loader)[0]\n",
    "x = mx.nd.array(x, ctx=ctx)\n",
    "_mean, _lvar = nd.split(vaeLoss.encoder(x), num_outputs=2)\n",
    "z = _mean + nd.exp(_lvar/2) * nd.random_normal(shape=_mean.shape, ctx=ctx)\n",
    "mean = vaeLoss.decoder(z)\n",
    "reconst = nd.reshape(mean, (-1,28,28))"
   ]
  },
  {
   "cell_type": "code",
   "execution_count": 8,
   "metadata": {},
   "outputs": [
    {
     "data": {
      "image/png": "[encoded data removed]",
      "text/plain": [
       "<Figure size 1728x144 with 24 Axes>"
      ]
     },
     "metadata": {},
     "output_type": "display_data"
    }
   ],
   "source": [
    "fig, ax = plt.subplots(2,12, figsize=(24,2))\n",
    "for i in range(12):\n",
    "    a1, a2 = ax[:, i]\n",
    "    a1.set_xticks([])\n",
    "    a2.set_xticks([])\n",
    "    a1.imshow(x.asnumpy()[i,0,:,:])\n",
    "    #a1.plot([0,28], [14,14], 'r')\n",
    "    a2.imshow(reconst.asnumpy()[i,:,:])\n",
    "    #a2.plot([0,28], [14,14], 'r')\n",
    "    a1.set_xticks([])\n",
    "    a2.set_xticks([])\n",
    "    a1.set_xlim([0,28])\n",
    "    a2.set_xlim([0,28])\n",
    "    a1.set_yticks([])\n",
    "    a2.set_yticks([])"
   ]
  }
 ],
 "metadata": {
  "kernelspec": {
   "display_name": "Python 3",
   "language": "python",
   "name": "python3"
  },
  "language_info": {
   "codemirror_mode": {
    "name": "ipython",
    "version": 3
   },
   "file_extension": ".py",
   "mimetype": "text/x-python",
   "name": "python",
   "nbconvert_exporter": "python",
   "pygments_lexer": "ipython3",
   "version": "3.6.7"
  }
 },
 "nbformat": 4,
 "nbformat_minor": 2
}
